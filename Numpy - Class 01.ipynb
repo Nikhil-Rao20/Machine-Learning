{
 "cells": [
  {
   "cell_type": "markdown",
   "id": "3203b9d4",
   "metadata": {},
   "source": [
    "<h1 style='color:red'><b>NumPy for Machine Learning "
   ]
  },
  {
   "cell_type": "markdown",
   "id": "0949a585",
   "metadata": {},
   "source": [
    "### NumPy is a library of Python that will help in analyzing the data. It is used by individuals who deal with Data science. "
   ]
  },
  {
   "cell_type": "markdown",
   "id": "3cb063be",
   "metadata": {},
   "source": [
    "<h2 style=\"color:blue\"><b> Installation"
   ]
  },
  {
   "cell_type": "code",
   "execution_count": 2,
   "id": "2e660076",
   "metadata": {},
   "outputs": [
    {
     "name": "stdout",
     "output_type": "stream",
     "text": [
      "Requirement already satisfied: numpy in c:\\users\\nikhil\\anaconda3\\lib\\site-packages (1.21.5)\n",
      "Note: you may need to restart the kernel to use updated packages.\n"
     ]
    }
   ],
   "source": [
    "pip install numpy"
   ]
  },
  {
   "cell_type": "markdown",
   "id": "ab7a156e",
   "metadata": {},
   "source": [
    "<h2 style=\"color:rgb(246,99,09)\"><b>Topic 1: What are Numpy Arrrays?"
   ]
  },
  {
   "cell_type": "markdown",
   "id": "d2f53829",
   "metadata": {},
   "source": [
    "### While working with NumPy for data science, mostly we have to deal with NumPy arrays. These arrays are of two types:\n",
    "\n",
    "### 1. Matrices\n",
    "\n",
    "###           Matrices are usually two-dimensional but they can still have either only one row or one column.\n",
    "\n",
    "### 2. Vectors\n",
    "\n",
    "###           Vectors on the other hand are strictly one-dimensional."
   ]
  },
  {
   "cell_type": "markdown",
   "id": "2b10bc34",
   "metadata": {},
   "source": [
    "<h2 style=\"color:blue\"><b>Importing NumPy"
   ]
  },
  {
   "cell_type": "code",
   "execution_count": 5,
   "id": "302b6c88",
   "metadata": {},
   "outputs": [],
   "source": [
    "import numpy as np"
   ]
  },
  {
   "cell_type": "markdown",
   "id": "98f4a0b4",
   "metadata": {},
   "source": [
    "<h2 style=\"color:blue\"><b>How to create 1-D NumPy Arrays?"
   ]
  },
  {
   "cell_type": "code",
   "execution_count": 10,
   "id": "13474ec5",
   "metadata": {},
   "outputs": [
    {
     "data": {
      "text/plain": [
       "array([1, 2, 3, 4])"
      ]
     },
     "execution_count": 10,
     "metadata": {},
     "output_type": "execute_result"
    }
   ],
   "source": [
    "list=[1,2,3,4,5]\n",
    "arr = np.array([1,2,3,4])\n",
    "arr"
   ]
  },
  {
   "cell_type": "markdown",
   "id": "a2bf3b7f",
   "metadata": {},
   "source": [
    "<h2 style=\"color:blue\"><b>How to create 2-D NumPy Arrays?"
   ]
  },
  {
   "cell_type": "code",
   "execution_count": 11,
   "id": "84c5dba7",
   "metadata": {},
   "outputs": [
    {
     "data": {
      "text/plain": [
       "array([[ 1,  2,  3, 10],\n",
       "       [ 4,  5,  6, 12]])"
      ]
     },
     "execution_count": 11,
     "metadata": {},
     "output_type": "execute_result"
    }
   ],
   "source": [
    "list2=[[1,2,3],[4,5,6]]\n",
    "arr2 = np.array([[1,2,3,10],[4,5,6,12]])\n",
    "arr2"
   ]
  },
  {
   "cell_type": "markdown",
   "id": "0311b247",
   "metadata": {},
   "source": [
    "<h2 style=\"color:blue\"><b>How to create multi-dimensional NumPy Arrays?"
   ]
  },
  {
   "cell_type": "code",
   "execution_count": 27,
   "id": "6c7f7377",
   "metadata": {},
   "outputs": [
    {
     "data": {
      "text/plain": [
       "array([[[[1, 2, 3, 4, 5]]]])"
      ]
     },
     "execution_count": 27,
     "metadata": {},
     "output_type": "execute_result"
    }
   ],
   "source": [
    "arr4 = np.array(\n",
    "    [\n",
    "        [\n",
    "            [\n",
    "                [1,2,3,4,5]\n",
    "            ]\n",
    "        ]\n",
    "    ]\n",
    "    )\n",
    "arr4"
   ]
  },
  {
   "cell_type": "markdown",
   "id": "212c715f",
   "metadata": {},
   "source": [
    "<h2 style=\"color:rgb(246,99,09)\"><b>Topic 2: How to create NumPy Arrays using built-in methods?"
   ]
  },
  {
   "cell_type": "code",
   "execution_count": 33,
   "id": "edc9a761",
   "metadata": {},
   "outputs": [
    {
     "name": "stdout",
     "output_type": "stream",
     "text": [
      "1\n",
      "2\n",
      "3\n",
      "4\n",
      "5\n",
      "6\n",
      "7\n",
      "8\n",
      "9\n"
     ]
    }
   ],
   "source": [
    "for i in range(1,10):\n",
    "    print(i)"
   ]
  },
  {
   "cell_type": "code",
   "execution_count": 36,
   "id": "f59e353d",
   "metadata": {},
   "outputs": [
    {
     "data": {
      "text/plain": [
       "array([0, 2, 4, 6, 8])"
      ]
     },
     "execution_count": 36,
     "metadata": {},
     "output_type": "execute_result"
    }
   ],
   "source": [
    "np.arange(0,10,2)"
   ]
  },
  {
   "cell_type": "code",
   "execution_count": 37,
   "id": "74647263",
   "metadata": {},
   "outputs": [
    {
     "data": {
      "text/plain": [
       "array([0., 0., 0., 0., 0.])"
      ]
     },
     "execution_count": 37,
     "metadata": {},
     "output_type": "execute_result"
    }
   ],
   "source": [
    "np.zeros(5)"
   ]
  },
  {
   "cell_type": "code",
   "execution_count": 38,
   "id": "9263d580",
   "metadata": {},
   "outputs": [
    {
     "data": {
      "text/plain": [
       "array([[0., 0.],\n",
       "       [0., 0.],\n",
       "       [0., 0.],\n",
       "       [0., 0.],\n",
       "       [0., 0.]])"
      ]
     },
     "execution_count": 38,
     "metadata": {},
     "output_type": "execute_result"
    }
   ],
   "source": [
    "np.zeros((5,2))"
   ]
  },
  {
   "cell_type": "code",
   "execution_count": 39,
   "id": "4b86c78c",
   "metadata": {},
   "outputs": [
    {
     "data": {
      "text/plain": [
       "array([1., 1., 1., 1., 1.])"
      ]
     },
     "execution_count": 39,
     "metadata": {},
     "output_type": "execute_result"
    }
   ],
   "source": [
    "np.ones(5)"
   ]
  },
  {
   "cell_type": "code",
   "execution_count": 40,
   "id": "ec075060",
   "metadata": {},
   "outputs": [
    {
     "data": {
      "text/plain": [
       "array([[1., 1., 1., 1.],\n",
       "       [1., 1., 1., 1.],\n",
       "       [1., 1., 1., 1.]])"
      ]
     },
     "execution_count": 40,
     "metadata": {},
     "output_type": "execute_result"
    }
   ],
   "source": [
    "np.ones((3,4))"
   ]
  },
  {
   "cell_type": "code",
   "execution_count": 41,
   "id": "922a00c3",
   "metadata": {},
   "outputs": [
    {
     "data": {
      "text/plain": [
       "array([ 1.  ,  5.75, 10.5 , 15.25, 20.  ])"
      ]
     },
     "execution_count": 41,
     "metadata": {},
     "output_type": "execute_result"
    }
   ],
   "source": [
    "np.linspace(1, 20, 5)"
   ]
  },
  {
   "cell_type": "markdown",
   "id": "44a8489d",
   "metadata": {},
   "source": [
    "Identity Matrix: Determinant is 0"
   ]
  },
  {
   "cell_type": "code",
   "execution_count": 42,
   "id": "de6159e8",
   "metadata": {},
   "outputs": [
    {
     "data": {
      "text/plain": [
       "array([[1., 0., 0.],\n",
       "       [0., 1., 0.],\n",
       "       [0., 0., 1.]])"
      ]
     },
     "execution_count": 42,
     "metadata": {},
     "output_type": "execute_result"
    }
   ],
   "source": [
    "np.eye(3)"
   ]
  },
  {
   "cell_type": "code",
   "execution_count": 43,
   "id": "575e62de",
   "metadata": {},
   "outputs": [
    {
     "data": {
      "text/plain": [
       "array([[1., 0., 0., 0., 0., 0.],\n",
       "       [0., 1., 0., 0., 0., 0.],\n",
       "       [0., 0., 1., 0., 0., 0.],\n",
       "       [0., 0., 0., 1., 0., 0.],\n",
       "       [0., 0., 0., 0., 1., 0.],\n",
       "       [0., 0., 0., 0., 0., 1.]])"
      ]
     },
     "execution_count": 43,
     "metadata": {},
     "output_type": "execute_result"
    }
   ],
   "source": [
    "np.eye(6)"
   ]
  },
  {
   "cell_type": "code",
   "execution_count": 48,
   "id": "69d8c086",
   "metadata": {},
   "outputs": [
    {
     "data": {
      "text/plain": [
       "array([[0.12421653, 0.77211553],\n",
       "       [0.65352008, 0.07878486],\n",
       "       [0.38045331, 0.21846412]])"
      ]
     },
     "execution_count": 48,
     "metadata": {},
     "output_type": "execute_result"
    }
   ],
   "source": [
    "np.random.rand(3,2)"
   ]
  },
  {
   "cell_type": "code",
   "execution_count": 55,
   "id": "fff0e4c9",
   "metadata": {},
   "outputs": [
    {
     "data": {
      "text/plain": [
       "array([[6, 6],\n",
       "       [7, 1],\n",
       "       [7, 6]])"
      ]
     },
     "execution_count": 55,
     "metadata": {},
     "output_type": "execute_result"
    }
   ],
   "source": [
    "np.random.randint(1, 10, (3,2))"
   ]
  },
  {
   "cell_type": "markdown",
   "id": "ca6cc023",
   "metadata": {},
   "source": [
    "<h2 style=\"color:rgb(246,99,09)\"><b>Topic 3 : What are the attributes and methods of NumPy Array?"
   ]
  },
  {
   "cell_type": "code",
   "execution_count": 56,
   "id": "a1c9ee63",
   "metadata": {},
   "outputs": [],
   "source": [
    "arr1 = np.arange(1,26)"
   ]
  },
  {
   "cell_type": "code",
   "execution_count": 57,
   "id": "0c0ac633",
   "metadata": {},
   "outputs": [
    {
     "data": {
      "text/plain": [
       "array([ 1,  2,  3,  4,  5,  6,  7,  8,  9, 10, 11, 12, 13, 14, 15, 16, 17,\n",
       "       18, 19, 20, 21, 22, 23, 24, 25])"
      ]
     },
     "execution_count": 57,
     "metadata": {},
     "output_type": "execute_result"
    }
   ],
   "source": [
    "arr1"
   ]
  },
  {
   "cell_type": "code",
   "execution_count": 58,
   "id": "6d2bd17a",
   "metadata": {},
   "outputs": [
    {
     "data": {
      "text/plain": [
       "(25,)"
      ]
     },
     "execution_count": 58,
     "metadata": {},
     "output_type": "execute_result"
    }
   ],
   "source": [
    "arr1.shape"
   ]
  },
  {
   "cell_type": "code",
   "execution_count": 62,
   "id": "ba19a736",
   "metadata": {},
   "outputs": [],
   "source": [
    "arr5 = arr1.reshape(5,5)"
   ]
  },
  {
   "cell_type": "code",
   "execution_count": 63,
   "id": "db7bc835",
   "metadata": {},
   "outputs": [
    {
     "data": {
      "text/plain": [
       "array([[ 1,  2,  3,  4,  5],\n",
       "       [ 6,  7,  8,  9, 10],\n",
       "       [11, 12, 13, 14, 15],\n",
       "       [16, 17, 18, 19, 20],\n",
       "       [21, 22, 23, 24, 25]])"
      ]
     },
     "execution_count": 63,
     "metadata": {},
     "output_type": "execute_result"
    }
   ],
   "source": [
    "arr5"
   ]
  },
  {
   "cell_type": "code",
   "execution_count": 64,
   "id": "24550260",
   "metadata": {},
   "outputs": [
    {
     "ename": "ValueError",
     "evalue": "cannot reshape array of size 25 into shape (3,4)",
     "output_type": "error",
     "traceback": [
      "\u001b[1;31m---------------------------------------------------------------------------\u001b[0m",
      "\u001b[1;31mValueError\u001b[0m                                Traceback (most recent call last)",
      "Input \u001b[1;32mIn [64]\u001b[0m, in \u001b[0;36m<cell line: 1>\u001b[1;34m()\u001b[0m\n\u001b[1;32m----> 1\u001b[0m \u001b[43marr5\u001b[49m\u001b[38;5;241;43m.\u001b[39;49m\u001b[43mreshape\u001b[49m\u001b[43m(\u001b[49m\u001b[38;5;241;43m3\u001b[39;49m\u001b[43m,\u001b[49m\u001b[38;5;241;43m4\u001b[39;49m\u001b[43m)\u001b[49m\n",
      "\u001b[1;31mValueError\u001b[0m: cannot reshape array of size 25 into shape (3,4)"
     ]
    }
   ],
   "source": [
    "arr5.reshape(3,4)"
   ]
  },
  {
   "cell_type": "code",
   "execution_count": 65,
   "id": "73d2fa9b",
   "metadata": {},
   "outputs": [
    {
     "data": {
      "text/plain": [
       "25"
      ]
     },
     "execution_count": 65,
     "metadata": {},
     "output_type": "execute_result"
    }
   ],
   "source": [
    "arr5.max()"
   ]
  },
  {
   "cell_type": "code",
   "execution_count": 66,
   "id": "d3eb3e95",
   "metadata": {},
   "outputs": [
    {
     "data": {
      "text/plain": [
       "1"
      ]
     },
     "execution_count": 66,
     "metadata": {},
     "output_type": "execute_result"
    }
   ],
   "source": [
    "arr5.min()"
   ]
  },
  {
   "cell_type": "code",
   "execution_count": 69,
   "id": "b8a82d49",
   "metadata": {},
   "outputs": [
    {
     "data": {
      "text/plain": [
       "24"
      ]
     },
     "execution_count": 69,
     "metadata": {},
     "output_type": "execute_result"
    }
   ],
   "source": [
    "arr5.argmax()"
   ]
  },
  {
   "cell_type": "code",
   "execution_count": 70,
   "id": "428f858b",
   "metadata": {},
   "outputs": [
    {
     "data": {
      "text/plain": [
       "0"
      ]
     },
     "execution_count": 70,
     "metadata": {},
     "output_type": "execute_result"
    }
   ],
   "source": [
    "arr5.argmin()"
   ]
  },
  {
   "cell_type": "code",
   "execution_count": 71,
   "id": "72e58300",
   "metadata": {},
   "outputs": [
    {
     "data": {
      "text/plain": [
       "dtype('int32')"
      ]
     },
     "execution_count": 71,
     "metadata": {},
     "output_type": "execute_result"
    }
   ],
   "source": [
    "arr5.dtype"
   ]
  },
  {
   "cell_type": "markdown",
   "id": "f70377ac",
   "metadata": {},
   "source": [
    "<h2 style=\"color:rgb(246,99,09)\"><b>Topic 4 : How to perform indexing and selection of elements in 1-D NumPy Array?"
   ]
  },
  {
   "cell_type": "code",
   "execution_count": 73,
   "id": "fdecbc4b",
   "metadata": {},
   "outputs": [],
   "source": [
    "arr6 = np.arange(1,10)"
   ]
  },
  {
   "cell_type": "code",
   "execution_count": 74,
   "id": "3b8e9572",
   "metadata": {},
   "outputs": [
    {
     "data": {
      "text/plain": [
       "array([1, 2, 3, 4, 5, 6, 7, 8, 9])"
      ]
     },
     "execution_count": 74,
     "metadata": {},
     "output_type": "execute_result"
    }
   ],
   "source": [
    "arr6"
   ]
  },
  {
   "cell_type": "code",
   "execution_count": 75,
   "id": "288f7322",
   "metadata": {},
   "outputs": [
    {
     "data": {
      "text/plain": [
       "4"
      ]
     },
     "execution_count": 75,
     "metadata": {},
     "output_type": "execute_result"
    }
   ],
   "source": [
    "arr6[3]"
   ]
  },
  {
   "cell_type": "code",
   "execution_count": 76,
   "id": "55fb33a0",
   "metadata": {},
   "outputs": [
    {
     "data": {
      "text/plain": [
       "array([2, 3, 4, 5])"
      ]
     },
     "execution_count": 76,
     "metadata": {},
     "output_type": "execute_result"
    }
   ],
   "source": [
    "arr6[1:5]"
   ]
  },
  {
   "cell_type": "code",
   "execution_count": 77,
   "id": "f7024367",
   "metadata": {},
   "outputs": [],
   "source": [
    "arr6[1:5]=10"
   ]
  },
  {
   "cell_type": "code",
   "execution_count": 78,
   "id": "03be03b9",
   "metadata": {},
   "outputs": [
    {
     "data": {
      "text/plain": [
       "array([ 1, 10, 10, 10, 10,  6,  7,  8,  9])"
      ]
     },
     "execution_count": 78,
     "metadata": {},
     "output_type": "execute_result"
    }
   ],
   "source": [
    "arr6"
   ]
  },
  {
   "cell_type": "code",
   "execution_count": 79,
   "id": "10391a31",
   "metadata": {},
   "outputs": [],
   "source": [
    "arr6[:]=25"
   ]
  },
  {
   "cell_type": "code",
   "execution_count": 80,
   "id": "f685e7d8",
   "metadata": {},
   "outputs": [
    {
     "data": {
      "text/plain": [
       "array([25, 25, 25, 25, 25, 25, 25, 25, 25])"
      ]
     },
     "execution_count": 80,
     "metadata": {},
     "output_type": "execute_result"
    }
   ],
   "source": [
    "arr6"
   ]
  },
  {
   "cell_type": "code",
   "execution_count": 81,
   "id": "65e62718",
   "metadata": {},
   "outputs": [],
   "source": [
    "arr7 = arr6.copy()"
   ]
  },
  {
   "cell_type": "code",
   "execution_count": 82,
   "id": "720d0b7c",
   "metadata": {},
   "outputs": [
    {
     "data": {
      "text/plain": [
       "array([25, 25, 25, 25, 25, 25, 25, 25, 25])"
      ]
     },
     "execution_count": 82,
     "metadata": {},
     "output_type": "execute_result"
    }
   ],
   "source": [
    "arr7"
   ]
  },
  {
   "cell_type": "code",
   "execution_count": 83,
   "id": "2e61f383",
   "metadata": {},
   "outputs": [],
   "source": [
    "arr7[:]=10"
   ]
  },
  {
   "cell_type": "code",
   "execution_count": 84,
   "id": "88300115",
   "metadata": {},
   "outputs": [
    {
     "data": {
      "text/plain": [
       "array([25, 25, 25, 25, 25, 25, 25, 25, 25])"
      ]
     },
     "execution_count": 84,
     "metadata": {},
     "output_type": "execute_result"
    }
   ],
   "source": [
    "arr6"
   ]
  },
  {
   "cell_type": "code",
   "execution_count": 85,
   "id": "e9681072",
   "metadata": {},
   "outputs": [
    {
     "data": {
      "text/plain": [
       "array([10, 10, 10, 10, 10, 10, 10, 10, 10])"
      ]
     },
     "execution_count": 85,
     "metadata": {},
     "output_type": "execute_result"
    }
   ],
   "source": [
    "arr7"
   ]
  },
  {
   "cell_type": "markdown",
   "id": "1ba5f15f",
   "metadata": {},
   "source": [
    "<h2 style=\"color:rgb(246,99,09)\"><b>Topic 5 : How to perform conditional selection using a boolean array?"
   ]
  },
  {
   "cell_type": "code",
   "execution_count": 86,
   "id": "c0fe416f",
   "metadata": {},
   "outputs": [],
   "source": [
    "arr8 = np.random.randint(0,100,30)"
   ]
  },
  {
   "cell_type": "code",
   "execution_count": 87,
   "id": "2eafdd59",
   "metadata": {},
   "outputs": [
    {
     "data": {
      "text/plain": [
       "array([46, 65, 35, 38, 20, 81, 84,  6, 57, 91, 65, 24, 98, 64, 35, 22, 13,\n",
       "       76, 65, 35, 26, 51, 79, 22, 54,  7, 99, 39, 76,  3])"
      ]
     },
     "execution_count": 87,
     "metadata": {},
     "output_type": "execute_result"
    }
   ],
   "source": [
    "arr8"
   ]
  },
  {
   "cell_type": "code",
   "execution_count": 88,
   "id": "ec6159fd",
   "metadata": {},
   "outputs": [],
   "source": [
    "bool_arr8 = arr8>50"
   ]
  },
  {
   "cell_type": "code",
   "execution_count": 89,
   "id": "109e9f27",
   "metadata": {},
   "outputs": [
    {
     "data": {
      "text/plain": [
       "array([False,  True, False, False, False,  True,  True, False,  True,\n",
       "        True,  True, False,  True,  True, False, False, False,  True,\n",
       "        True, False, False,  True,  True, False,  True, False,  True,\n",
       "       False,  True, False])"
      ]
     },
     "execution_count": 89,
     "metadata": {},
     "output_type": "execute_result"
    }
   ],
   "source": [
    "bool_arr8"
   ]
  },
  {
   "cell_type": "code",
   "execution_count": 90,
   "id": "4b8aa1ad",
   "metadata": {},
   "outputs": [
    {
     "data": {
      "text/plain": [
       "array([65, 81, 84, 57, 91, 65, 98, 64, 76, 65, 51, 79, 54, 99, 76])"
      ]
     },
     "execution_count": 90,
     "metadata": {},
     "output_type": "execute_result"
    }
   ],
   "source": [
    "arr8[bool_arr8]"
   ]
  },
  {
   "cell_type": "code",
   "execution_count": 91,
   "id": "8d63603d",
   "metadata": {},
   "outputs": [
    {
     "data": {
      "text/plain": [
       "array([46, 35, 38, 20,  6, 24, 35, 22, 13, 35, 26, 22,  7, 39,  3])"
      ]
     },
     "execution_count": 91,
     "metadata": {},
     "output_type": "execute_result"
    }
   ],
   "source": [
    "arr8[arr8<50]"
   ]
  },
  {
   "cell_type": "markdown",
   "id": "b2b911bd",
   "metadata": {},
   "source": [
    "<h2 style=\"color:rgb(246,99,09)\"><b>Topic 6 : How to perform operations with Arrays?    "
   ]
  },
  {
   "cell_type": "markdown",
   "id": "103a3022",
   "metadata": {},
   "source": [
    "<h2 style=\"color:blue\"><b>Operations between Array and Array"
   ]
  },
  {
   "cell_type": "code",
   "execution_count": 92,
   "id": "c5115d3a",
   "metadata": {},
   "outputs": [],
   "source": [
    "a = np.arange(1,10,2)\n",
    "b = np.arange(1,15,3)"
   ]
  },
  {
   "cell_type": "code",
   "execution_count": 93,
   "id": "65923a12",
   "metadata": {},
   "outputs": [
    {
     "data": {
      "text/plain": [
       "array([1, 3, 5, 7, 9])"
      ]
     },
     "execution_count": 93,
     "metadata": {},
     "output_type": "execute_result"
    }
   ],
   "source": [
    "a"
   ]
  },
  {
   "cell_type": "code",
   "execution_count": 94,
   "id": "08a8cb26",
   "metadata": {},
   "outputs": [
    {
     "data": {
      "text/plain": [
       "array([ 1,  4,  7, 10, 13])"
      ]
     },
     "execution_count": 94,
     "metadata": {},
     "output_type": "execute_result"
    }
   ],
   "source": [
    "b"
   ]
  },
  {
   "cell_type": "code",
   "execution_count": 95,
   "id": "eb206b1a",
   "metadata": {},
   "outputs": [
    {
     "data": {
      "text/plain": [
       "array([ 2,  7, 12, 17, 22])"
      ]
     },
     "execution_count": 95,
     "metadata": {},
     "output_type": "execute_result"
    }
   ],
   "source": [
    "a+b"
   ]
  },
  {
   "cell_type": "code",
   "execution_count": 96,
   "id": "b7111393",
   "metadata": {},
   "outputs": [
    {
     "data": {
      "text/plain": [
       "array([ 0, -1, -2, -3, -4])"
      ]
     },
     "execution_count": 96,
     "metadata": {},
     "output_type": "execute_result"
    }
   ],
   "source": [
    "a-b"
   ]
  },
  {
   "cell_type": "code",
   "execution_count": 97,
   "id": "d60ed0c8",
   "metadata": {},
   "outputs": [
    {
     "data": {
      "text/plain": [
       "array([  1,  12,  35,  70, 117])"
      ]
     },
     "execution_count": 97,
     "metadata": {},
     "output_type": "execute_result"
    }
   ],
   "source": [
    "a*b"
   ]
  },
  {
   "cell_type": "markdown",
   "id": "ba2e3b2c",
   "metadata": {},
   "source": [
    "<h2 style=\"color:blue\"><b>Operations between Array and Scalar"
   ]
  },
  {
   "cell_type": "code",
   "execution_count": 98,
   "id": "727bc63d",
   "metadata": {},
   "outputs": [
    {
     "data": {
      "text/plain": [
       "array([ 4,  6,  8, 10, 12])"
      ]
     },
     "execution_count": 98,
     "metadata": {},
     "output_type": "execute_result"
    }
   ],
   "source": [
    "a+3"
   ]
  },
  {
   "cell_type": "code",
   "execution_count": 99,
   "id": "c4f4419c",
   "metadata": {},
   "outputs": [
    {
     "data": {
      "text/plain": [
       "array([-2,  0,  2,  4,  6])"
      ]
     },
     "execution_count": 99,
     "metadata": {},
     "output_type": "execute_result"
    }
   ],
   "source": [
    "a-3"
   ]
  },
  {
   "cell_type": "code",
   "execution_count": 100,
   "id": "5cb30ca6",
   "metadata": {},
   "outputs": [
    {
     "data": {
      "text/plain": [
       "array([ 2,  8, 14, 20, 26])"
      ]
     },
     "execution_count": 100,
     "metadata": {},
     "output_type": "execute_result"
    }
   ],
   "source": [
    "b*2"
   ]
  },
  {
   "cell_type": "code",
   "execution_count": 101,
   "id": "570d40f5",
   "metadata": {},
   "outputs": [
    {
     "data": {
      "text/plain": [
       "array([0.5, 2. , 3.5, 5. , 6.5])"
      ]
     },
     "execution_count": 101,
     "metadata": {},
     "output_type": "execute_result"
    }
   ],
   "source": [
    "b/2"
   ]
  },
  {
   "cell_type": "code",
   "execution_count": 102,
   "id": "3a18c251",
   "metadata": {},
   "outputs": [
    {
     "data": {
      "text/plain": [
       "array([0, 1, 2, 3, 4], dtype=int32)"
      ]
     },
     "execution_count": 102,
     "metadata": {},
     "output_type": "execute_result"
    }
   ],
   "source": [
    "b//3"
   ]
  },
  {
   "cell_type": "code",
   "execution_count": 103,
   "id": "9e5b7ecd",
   "metadata": {},
   "outputs": [
    {
     "data": {
      "text/plain": [
       "array([ 1,  9, 25, 49, 81], dtype=int32)"
      ]
     },
     "execution_count": 103,
     "metadata": {},
     "output_type": "execute_result"
    }
   ],
   "source": [
    "a**2"
   ]
  },
  {
   "cell_type": "markdown",
   "id": "e23127bc",
   "metadata": {},
   "source": [
    "<h2 style=\"color:rgb(246,99,09)\"><b>Topic 7 : How to perform with NumPy universal fuctions? "
   ]
  },
  {
   "cell_type": "code",
   "execution_count": 104,
   "id": "8a5def86",
   "metadata": {},
   "outputs": [
    {
     "data": {
      "text/plain": [
       "array([1, 3, 5, 7, 9])"
      ]
     },
     "execution_count": 104,
     "metadata": {},
     "output_type": "execute_result"
    }
   ],
   "source": [
    "a"
   ]
  },
  {
   "cell_type": "code",
   "execution_count": 105,
   "id": "f0a6cd42",
   "metadata": {},
   "outputs": [
    {
     "data": {
      "text/plain": [
       "array([ 1,  4,  7, 10, 13])"
      ]
     },
     "execution_count": 105,
     "metadata": {},
     "output_type": "execute_result"
    }
   ],
   "source": [
    "b"
   ]
  },
  {
   "cell_type": "code",
   "execution_count": 106,
   "id": "742c59d7",
   "metadata": {},
   "outputs": [
    {
     "data": {
      "text/plain": [
       "array([ 2,  7, 12, 17, 22])"
      ]
     },
     "execution_count": 106,
     "metadata": {},
     "output_type": "execute_result"
    }
   ],
   "source": [
    "np.add(b,a)\n"
   ]
  },
  {
   "cell_type": "code",
   "execution_count": 107,
   "id": "0e38ad18",
   "metadata": {},
   "outputs": [
    {
     "data": {
      "text/plain": [
       "array([0, 1, 2, 3, 4])"
      ]
     },
     "execution_count": 107,
     "metadata": {},
     "output_type": "execute_result"
    }
   ],
   "source": [
    "np.subtract(b,a)"
   ]
  },
  {
   "cell_type": "code",
   "execution_count": 108,
   "id": "d917716c",
   "metadata": {},
   "outputs": [
    {
     "data": {
      "text/plain": [
       "array([  1,  12,  35,  70, 117])"
      ]
     },
     "execution_count": 108,
     "metadata": {},
     "output_type": "execute_result"
    }
   ],
   "source": [
    "np.multiply(b,a)"
   ]
  },
  {
   "cell_type": "code",
   "execution_count": 109,
   "id": "412f3e80",
   "metadata": {},
   "outputs": [
    {
     "data": {
      "text/plain": [
       "array([2.71828183e+00, 5.45981500e+01, 1.09663316e+03, 2.20264658e+04,\n",
       "       4.42413392e+05])"
      ]
     },
     "execution_count": 109,
     "metadata": {},
     "output_type": "execute_result"
    }
   ],
   "source": [
    "np.exp(b)"
   ]
  },
  {
   "cell_type": "code",
   "execution_count": 110,
   "id": "56e65348",
   "metadata": {},
   "outputs": [
    {
     "data": {
      "text/plain": [
       "array([1.        , 1.73205081, 2.23606798, 2.64575131, 3.        ])"
      ]
     },
     "execution_count": 110,
     "metadata": {},
     "output_type": "execute_result"
    }
   ],
   "source": [
    "np.sqrt(a)"
   ]
  },
  {
   "cell_type": "code",
   "execution_count": 115,
   "id": "74afce3b",
   "metadata": {},
   "outputs": [
    {
     "data": {
      "text/plain": [
       "array([ 0.84147098, -0.7568025 ,  0.6569866 , -0.54402111,  0.42016704])"
      ]
     },
     "execution_count": 115,
     "metadata": {},
     "output_type": "execute_result"
    }
   ],
   "source": [
    "np.sin(b)"
   ]
  },
  {
   "cell_type": "code",
   "execution_count": 116,
   "id": "1e975b83",
   "metadata": {},
   "outputs": [
    {
     "data": {
      "text/plain": [
       "array([ 0.54030231, -0.9899925 ,  0.28366219,  0.75390225, -0.91113026])"
      ]
     },
     "execution_count": 116,
     "metadata": {},
     "output_type": "execute_result"
    }
   ],
   "source": [
    "np.cos(a)"
   ]
  },
  {
   "cell_type": "code",
   "execution_count": 117,
   "id": "d0bc7856",
   "metadata": {},
   "outputs": [
    {
     "data": {
      "text/plain": [
       "array([1.55740772, 1.15782128, 0.87144798, 0.64836083, 0.46302113])"
      ]
     },
     "execution_count": 117,
     "metadata": {},
     "output_type": "execute_result"
    }
   ],
   "source": [
    "np.tan(b)"
   ]
  },
  {
   "cell_type": "code",
   "execution_count": 118,
   "id": "87f4c2b9",
   "metadata": {},
   "outputs": [
    {
     "data": {
      "text/plain": [
       "array([0.        , 1.38629436, 1.94591015, 2.30258509, 2.56494936])"
      ]
     },
     "execution_count": 118,
     "metadata": {},
     "output_type": "execute_result"
    }
   ],
   "source": [
    "np.log(b)"
   ]
  },
  {
   "cell_type": "code",
   "execution_count": 121,
   "id": "7af60c9b",
   "metadata": {},
   "outputs": [
    {
     "data": {
      "text/plain": [
       "array([ 1,  5, 12, 22, 35], dtype=int32)"
      ]
     },
     "execution_count": 121,
     "metadata": {},
     "output_type": "execute_result"
    }
   ],
   "source": [
    "b.cumsum(axis=0) #cumulative sum of all the elements"
   ]
  },
  {
   "cell_type": "code",
   "execution_count": 122,
   "id": "9f72bf42",
   "metadata": {},
   "outputs": [
    {
     "data": {
      "text/plain": [
       "5.0"
      ]
     },
     "execution_count": 122,
     "metadata": {},
     "output_type": "execute_result"
    }
   ],
   "source": [
    "a.mean() # Average/mean of all values"
   ]
  },
  {
   "cell_type": "code",
   "execution_count": 128,
   "id": "a89e8c84",
   "metadata": {},
   "outputs": [
    {
     "data": {
      "text/plain": [
       "5.0"
      ]
     },
     "execution_count": 128,
     "metadata": {},
     "output_type": "execute_result"
    }
   ],
   "source": [
    "np.median(a)"
   ]
  },
  {
   "cell_type": "code",
   "execution_count": 130,
   "id": "f77fafee",
   "metadata": {},
   "outputs": [
    {
     "data": {
      "text/plain": [
       "1.0"
      ]
     },
     "execution_count": 130,
     "metadata": {},
     "output_type": "execute_result"
    }
   ],
   "source": [
    "np.corrcoef(a) # Correlation coeff"
   ]
  },
  {
   "cell_type": "code",
   "execution_count": 133,
   "id": "9910600a",
   "metadata": {},
   "outputs": [],
   "source": [
    "c = np.array([4,9,2,7,10,1])"
   ]
  },
  {
   "cell_type": "code",
   "execution_count": 134,
   "id": "f15715fe",
   "metadata": {},
   "outputs": [
    {
     "data": {
      "text/plain": [
       "array([ 4,  9,  2,  7, 10,  1])"
      ]
     },
     "execution_count": 134,
     "metadata": {},
     "output_type": "execute_result"
    }
   ],
   "source": [
    "c"
   ]
  },
  {
   "cell_type": "code",
   "execution_count": 135,
   "id": "0b5e33bf",
   "metadata": {},
   "outputs": [],
   "source": [
    "c.sort()"
   ]
  },
  {
   "cell_type": "code",
   "execution_count": 136,
   "id": "c7ff6ecf",
   "metadata": {},
   "outputs": [
    {
     "data": {
      "text/plain": [
       "array([ 1,  2,  4,  7,  9, 10])"
      ]
     },
     "execution_count": 136,
     "metadata": {},
     "output_type": "execute_result"
    }
   ],
   "source": [
    "c"
   ]
  },
  {
   "cell_type": "code",
   "execution_count": 137,
   "id": "698a45e7",
   "metadata": {},
   "outputs": [],
   "source": [
    "#Transposing array"
   ]
  },
  {
   "cell_type": "code",
   "execution_count": 138,
   "id": "6095fd90",
   "metadata": {},
   "outputs": [
    {
     "data": {
      "text/plain": [
       "array([1, 3, 5, 7, 9])"
      ]
     },
     "execution_count": 138,
     "metadata": {},
     "output_type": "execute_result"
    }
   ],
   "source": [
    "a.T"
   ]
  },
  {
   "cell_type": "code",
   "execution_count": 139,
   "id": "1386dc0d",
   "metadata": {},
   "outputs": [
    {
     "data": {
      "text/plain": [
       "array([ 1,  3,  5,  7,  9,  1,  4,  7, 10, 13])"
      ]
     },
     "execution_count": 139,
     "metadata": {},
     "output_type": "execute_result"
    }
   ],
   "source": [
    "np.concatenate((a,b))"
   ]
  },
  {
   "cell_type": "markdown",
   "id": "e30dc0e8",
   "metadata": {},
   "source": [
    "We will practice Numpy along side with the Machine Learning!"
   ]
  }
 ],
 "metadata": {
  "kernelspec": {
   "display_name": "Python 3 (ipykernel)",
   "language": "python",
   "name": "python3"
  },
  "language_info": {
   "codemirror_mode": {
    "name": "ipython",
    "version": 3
   },
   "file_extension": ".py",
   "mimetype": "text/x-python",
   "name": "python",
   "nbconvert_exporter": "python",
   "pygments_lexer": "ipython3",
   "version": "3.9.12"
  }
 },
 "nbformat": 4,
 "nbformat_minor": 5
}
